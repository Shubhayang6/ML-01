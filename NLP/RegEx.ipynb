{
 "cells": [
  {
   "cell_type": "markdown",
   "id": "c8779a15",
   "metadata": {},
   "source": [
    "## Importing the python regex module"
   ]
  },
  {
   "cell_type": "code",
   "execution_count": 1,
   "id": "4873d77a",
   "metadata": {},
   "outputs": [],
   "source": [
    "import re"
   ]
  },
  {
   "cell_type": "markdown",
   "id": "576b2a88",
   "metadata": {},
   "source": [
    "## Chats from the User side to amazon chatbot"
   ]
  },
  {
   "cell_type": "code",
   "execution_count": 33,
   "id": "73a4ed48",
   "metadata": {},
   "outputs": [],
   "source": [
    "chat1 = 'shubhayan: Why there is no refund for my order even after 48 hrs?'\n",
    "chat2 = 'shubhayan: Here is the order ID: #435-9331018-7822376'\n",
    "chat3 = 'shubhayan: email - shubhayan.tech@gmail.com, phone - 1234567890 and now stop asking so much questions.'\n",
    "chat4 = 'shubhayan: Here is the alternative number (123)-567-8888'"
   ]
  },
  {
   "cell_type": "markdown",
   "id": "23af9812",
   "metadata": {},
   "source": [
    "## Logic implementation with Regular Expressions"
   ]
  },
  {
   "cell_type": "code",
   "execution_count": 41,
   "id": "f9535a41",
   "metadata": {},
   "outputs": [
    {
     "data": {
      "text/plain": [
       "[['435-9331018-7822376'],\n",
       " ['1234567890', '(123)-567-8888'],\n",
       " ['shubhayan.tech@gmail.com']]"
      ]
     },
     "execution_count": 41,
     "metadata": {},
     "output_type": "execute_result"
    }
   ],
   "source": [
    "def find_matches_with_regex():\n",
    "    amazon_chat_scraper = [chat1,\n",
    "                        chat2,\n",
    "                        chat3,\n",
    "                        chat4]\n",
    "\n",
    "    number_pattern = r'\\(\\d{3}\\)-\\d{3}-\\d{4}|\\d{10}'\n",
    "    email_pattern = r\"[a-z0-9A-Z._]*@[a-z]*.[a-zA-Z]*\"\n",
    "    order_pattern = r'order\\D*(\\d{3}-\\d{7}-\\d{7})'\n",
    "    \n",
    "    all_order_matches = []\n",
    "    all_number_matches =[]\n",
    "    all_email_matches = []\n",
    "\n",
    "    for match in amazon_chat_scraper:\n",
    "        all_order_matches.extend(re.findall(order_pattern,match))\n",
    "        all_number_matches.extend(re.findall(number_pattern,match))\n",
    "        all_email_matches.extend(re.findall(email_pattern,match))\n",
    "        \n",
    "    return [all_order_matches,all_number_matches,all_email_matches]\n",
    "\n",
    "find_matches_with_regex()\n"
   ]
  }
 ],
 "metadata": {
  "kernelspec": {
   "display_name": "venv",
   "language": "python",
   "name": "python3"
  },
  "language_info": {
   "codemirror_mode": {
    "name": "ipython",
    "version": 3
   },
   "file_extension": ".py",
   "mimetype": "text/x-python",
   "name": "python",
   "nbconvert_exporter": "python",
   "pygments_lexer": "ipython3",
   "version": "3.11.9"
  }
 },
 "nbformat": 4,
 "nbformat_minor": 5
}
